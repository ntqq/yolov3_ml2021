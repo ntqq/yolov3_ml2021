{
 "cells": [
  {
   "cell_type": "code",
   "execution_count": 1,
   "metadata": {},
   "outputs": [],
   "source": [
    "from PIL import Image\n",
    "from os import path, makedirs\n",
    "import os\n",
    "import re\n",
    "import pandas as pd\n",
    "import sys\n",
    "import argparse"
   ]
  },
  {
   "cell_type": "code",
   "execution_count": 2,
   "metadata": {},
   "outputs": [],
   "source": [
    "# labels = multi_df[\"class\"].unique()\n",
    "def convert_csv_to_yolo(multi_df, path, target_name):\n",
    "\n",
    "    # Encode labels according to labeldict if code's don't exist\n",
    "    if not \"code\" in multi_df.columns:\n",
    "        multi_df[\"code\"] = multi_df[\"class\"].apply(lambda x: labeldict[x])\n",
    "    # Round float to ints\n",
    "    for col in multi_df[[\"xmin\", \"ymin\", \"xmax\", \"ymax\"]]:\n",
    "        multi_df[col] = (multi_df[col]).apply(lambda x: round(x))\n",
    "\n",
    "    # Create Yolo Text file\n",
    "    last_image =\"\"\n",
    "    txt_file = \"\"\n",
    "\n",
    "    for index, row in multi_df.iterrows():\n",
    "        if not last_image == row[\"filename\"]:\n",
    "            txt_file += \"\\n\" + path + row[\"filename\"] + \" \"\n",
    "            txt_file += \",\".join(\n",
    "                [\n",
    "                    str(x)\n",
    "                    for x in (row[[\"xmin\", \"ymin\", \"xmax\", \"ymax\", \"code\"]].tolist())\n",
    "                ]\n",
    "            )\n",
    "        else:\n",
    "            txt_file += \" \"\n",
    "            txt_file += \",\".join(\n",
    "                [\n",
    "                    str(x)\n",
    "                    for x in (row[[\"xmin\", \"ymin\", \"xmax\", \"ymax\", \"code\"]].tolist())\n",
    "                ]\n",
    "            )\n",
    "        last_image = row[\"filename\"]\n",
    "    file = open(target_name, \"w\")\n",
    "    file.write(txt_file[1:])\n",
    "    file.close()\n",
    "    return True"
   ]
  },
  {
   "cell_type": "code",
   "execution_count": 6,
   "metadata": {},
   "outputs": [
    {
     "data": {
      "text/plain": [
       "True"
      ]
     },
     "execution_count": 6,
     "metadata": {},
     "output_type": "execute_result"
    }
   ],
   "source": [
    "labeldict=dict(zip([\"raccoon\"],[0,]))\n",
    "train_csv_path = './CSV_train_labels.csv'\n",
    "multi_df = pd.read_csv(train_csv_path)\n",
    "convert_csv_to_yolo(multi_df, path=\"./images\", target_name=\"data_train.txt\")\n",
    "\n",
    "test_csv_path = './CSV_test_labels.csv'\n",
    "multi_df = pd.read_csv(test_csv_path)\n",
    "convert_csv_to_yolo(multi_df, path=\"./images\", target_name=\"data_test.txt\")"
   ]
  }
 ],
 "metadata": {
  "kernelspec": {
   "display_name": "Python 3",
   "language": "python",
   "name": "python3"
  },
  "language_info": {
   "codemirror_mode": {
    "name": "ipython",
    "version": 3
   },
   "file_extension": ".py",
   "mimetype": "text/x-python",
   "name": "python",
   "nbconvert_exporter": "python",
   "pygments_lexer": "ipython3",
   "version": "3.8.3"
  }
 },
 "nbformat": 4,
 "nbformat_minor": 4
}
